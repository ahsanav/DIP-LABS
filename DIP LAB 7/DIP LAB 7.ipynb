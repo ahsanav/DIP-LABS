{
 "cells": [
  {
   "cell_type": "code",
   "execution_count": 5,
   "metadata": {
    "collapsed": false
   },
   "outputs": [],
   "source": [
    "#Circle\n",
    "import cv2\n",
    "import numpy as np\n",
    "\n",
    "img = np.ones((512,512,3),np.uint8)*255\n",
    "cv2.circle(img,(256,256),60,(0,0,255))\n",
    "cv2.circle(img,(256,256),30,(255,3,255),-1)\n",
    "cv2.imshow('image',img)\n",
    "cv2.waitKey(0)\n",
    "cv2.destroyAllWindows()"
   ]
  },
  {
   "cell_type": "code",
   "execution_count": 70,
   "metadata": {
    "collapsed": false
   },
   "outputs": [],
   "source": [
    "#pacman\n",
    "import cv2\n",
    "import numpy as np\n",
    "\n",
    "img = np.ones((512,512,3), np.uint8)*255\n",
    "img = cv2.circle(img,(256,256), 63, (128,0,128))\n",
    "img = cv2.line(img,(256,256),(256,200),(255,0,0),2)\n",
    "img = cv2.line(img,(256,256),(230,200),(255,0,0),2)\n",
    "cv2.imshow('image',img)\n",
    "cv2.waitKey(0)\n",
    "cv2.destroyAllWindows()"
   ]
  },
  {
   "cell_type": "code",
   "execution_count": 1,
   "metadata": {
    "collapsed": true
   },
   "outputs": [],
   "source": [
    "#border\n",
    "import cv2\n",
    "import numpy as np\n",
    "\n",
    "img = cv2.imread('lena.png',cv2.IMREAD_GRAYSCALE)\n",
    "img = cv2.copyMakeBorder(img,20,20,20,20,cv2.BORDER_CONSTANT)\n",
    "cv2.imshow('image',img)\n",
    "cv2.waitKey(0)\n",
    "cv2.destroyAllWindows()"
   ]
  },
  {
   "cell_type": "code",
   "execution_count": 2,
   "metadata": {
    "collapsed": false
   },
   "outputs": [],
   "source": [
    "#rectangle\n",
    "import cv2\n",
    "import numpy as np\n",
    "\n",
    "img = np.ones((512,512,3),np.uint8)*255\n",
    "img = cv2.rectangle(img,(150,250),(510,128),(0,255,0),3)\n",
    "cv2.imshow('image',img)\n",
    "cv2.waitKey(0)\n",
    "cv2.destroyAllWindows()"
   ]
  },
  {
   "cell_type": "code",
   "execution_count": 6,
   "metadata": {
    "collapsed": false
   },
   "outputs": [],
   "source": [
    "#hangman\n",
    "import numpy as np\n",
    "import cv2\n",
    "\n",
    "img = np.ones((512,512,3), np.uint8)*255\n",
    "img = cv2.circle(img,(256,256), 63, (128,0,128))\n",
    "img = cv2.line(img,(256,256),(256,200),(0,0,255),2)\n",
    "img = cv2.line(img,(256,256),(256,160),(0,0,255),2)\n",
    "img = cv2.line(img,(256,370),(256,320),(0,0,255),2)\n",
    "img = cv2.line(img,(284,346),(220,346),(0,0,255),2)\n",
    "img = cv2.line(img,(257,367),(218,389),(0,0,255),2)\n",
    "img = cv2.line(img,(257,367),(292,388),(0,0,255),2)\n",
    "cv2.imshow('image',img)\n",
    "cv2.waitKey(0)\n",
    "cv2.destroyAllWindows()"
   ]
  },
  {
   "cell_type": "code",
   "execution_count": 8,
   "metadata": {
    "collapsed": true
   },
   "outputs": [],
   "source": [
    "#paralilogram\n",
    "import cv2 \n",
    "import numpy as np\n",
    "\n",
    "img = np.ones((512,512,3),np.uint8)*255\n",
    "img = cv2.line(img,(193,246),(155,303),(255,0,0),2)\n",
    "img = cv2.line(img,(193,246),(310,246),(255,0,0),2)\n",
    "img = cv2.line(img,(271,307),(310,246),(255,0,0),2)\n",
    "img = cv2.line(img,(156,306),(272,308),(255,0,0),2)\n",
    "cv2.imshow('image',img)\n",
    "cv2.waitKey(0)\n",
    "cv2.destroyAllWindows()"
   ]
  },
  {
   "cell_type": "code",
   "execution_count": 7,
   "metadata": {
    "collapsed": false
   },
   "outputs": [
    {
     "name": "stdout",
     "output_type": "stream",
     "text": [
      "[4]\n"
     ]
    }
   ],
   "source": [
    "import numpy as np\n",
    "import cv2\n",
    "\n",
    "x = np.uint8([250])\n",
    "y = np.uint8([10])\n",
    "print(x+y)"
   ]
  },
  {
   "cell_type": "code",
   "execution_count": null,
   "metadata": {
    "collapsed": true
   },
   "outputs": [],
   "source": []
  }
 ],
 "metadata": {
  "anaconda-cloud": {},
  "kernelspec": {
   "display_name": "Python [Root]",
   "language": "python",
   "name": "Python [Root]"
  },
  "language_info": {
   "codemirror_mode": {
    "name": "ipython",
    "version": 3
   },
   "file_extension": ".py",
   "mimetype": "text/x-python",
   "name": "python",
   "nbconvert_exporter": "python",
   "pygments_lexer": "ipython3",
   "version": "3.5.2"
  }
 },
 "nbformat": 4,
 "nbformat_minor": 0
}
