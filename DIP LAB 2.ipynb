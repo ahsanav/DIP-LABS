{
 "cells": [
  {
   "cell_type": "markdown",
   "metadata": {},
   "source": [
    "# LAB 2"
   ]
  },
  {
   "cell_type": "markdown",
   "metadata": {},
   "source": [
    "# Write a program that takes a sentence as input. Compute the frequency of each words and prints them."
   ]
  },
  {
   "cell_type": "code",
   "execution_count": 2,
   "metadata": {
    "collapsed": false
   },
   "outputs": [
    {
     "name": "stdout",
     "output_type": "stream",
     "text": [
      "['As', 'you', 'sow,', 'so', 'shall', 'you', 'reap']\n",
      "{'As': 1, 'you': 2, 'sow,': 1, 'so': 1, 'shall': 1, 'reap': 1}\n"
     ]
    }
   ],
   "source": [
    "d = {}\n",
    "x = \"As you sow, so shall you reap\"\n",
    "print(x.split())\n",
    "for i in x.split():\n",
    "    if i in d.keys():\n",
    "        d[i]+=1\n",
    "    else:\n",
    "        d[i]=1\n",
    "print(d)"
   ]
  },
  {
   "cell_type": "markdown",
   "metadata": {},
   "source": [
    "# Write a program to find the ratio of winning the match"
   ]
  },
  {
   "cell_type": "code",
   "execution_count": 3,
   "metadata": {
    "collapsed": false
   },
   "outputs": [
    {
     "name": "stdout",
     "output_type": "stream",
     "text": [
      "2\n",
      "0.4\n"
     ]
    }
   ],
   "source": [
    "z = ['win','loss','loss','loss','win']\n",
    "l = len(z)\n",
    "win = 0\n",
    "for i in z:\n",
    "    if i =='win':\n",
    "        win = win+1\n",
    "print(win)\n",
    "ratio = win/l\n",
    "print(ratio)"
   ]
  },
  {
   "cell_type": "markdown",
   "metadata": {},
   "source": [
    "# Write a program to print the list in a different order"
   ]
  },
  {
   "cell_type": "code",
   "execution_count": 4,
   "metadata": {
    "collapsed": false
   },
   "outputs": [
    {
     "name": "stdout",
     "output_type": "stream",
     "text": [
      "[5, 9, 8, 7]\n",
      "[1, 8, 5]\n",
      "[5, 8, 6]\n",
      "[5, 6, 7, 8, 9, 5, 1]\n"
     ]
    }
   ],
   "source": [
    "x = [1,5,9,8,7,6,5]\n",
    "print(x[1:5])\n",
    "print(x[::3])\n",
    "print(x[1::2])\n",
    "print(x[ : :-1])"
   ]
  },
  {
   "cell_type": "markdown",
   "metadata": {},
   "source": [
    "# Write a program to print student cgpa. If student cgpa is less then 2.5 the student is not eligible to a degree"
   ]
  },
  {
   "cell_type": "code",
   "execution_count": 5,
   "metadata": {
    "collapsed": false
   },
   "outputs": [
    {
     "name": "stdout",
     "output_type": "stream",
     "text": [
      "Degree will be awarded to rafay\n",
      "Degree will be awarded to arsalan\n",
      "No Degree for asghar\n"
     ]
    }
   ],
   "source": [
    "cgpa={}\n",
    "cgpa[\"rafay\"]=3.5\n",
    "cgpa[\"arsalan\"]=2.9\n",
    "cgpa[\"asghar\"]=1.5\n",
    "\n",
    "for k in cgpa.keys():\n",
    "    if(cgpa[k]<2.5):\n",
    "        print(\"No Degree for\",k)\n",
    "    else:\n",
    "        print(\"Degree will be awarded to\",k)"
   ]
  },
  {
   "cell_type": "markdown",
   "metadata": {},
   "source": [
    "# Write a program to find a prime number between 1 to 1000 using Sieve of Eratosthenes method"
   ]
  },
  {
   "cell_type": "code",
   "execution_count": 6,
   "metadata": {
    "collapsed": false
   },
   "outputs": [
    {
     "name": "stdout",
     "output_type": "stream",
     "text": [
      "[2, 3, 5, 7, 11, 13, 17, 19, 23, 29, 31, 37, 41, 43, 47, 53, 59, 61, 67, 71, 73, 79, 83, 89, 97, 101, 103, 107, 109, 113, 127, 131, 137, 139, 149, 151, 157, 163, 167, 173, 179, 181, 191, 193, 197, 199, 211, 223, 227, 229, 233, 239, 241, 251, 257, 263, 269, 271, 277, 281, 283, 293, 307, 311, 313, 317, 331, 337, 347, 349, 353, 359, 367, 373, 379, 383, 389, 397, 401, 409, 419, 421, 431, 433, 439, 443, 449, 457, 461, 463, 467, 479, 487, 491, 499, 503, 509, 521, 523, 541, 547, 557, 563, 569, 571, 577, 587, 593, 599, 601, 607, 613, 617, 619, 631, 641, 643, 647, 653, 659, 661, 673, 677, 683, 691, 701, 709, 719, 727, 733, 739, 743, 751, 757, 761, 769, 773, 787, 797, 809, 811, 821, 823, 827, 829, 839, 853, 857, 859, 863, 877, 881, 883, 887, 907, 911, 919, 929, 937, 941, 947, 953, 967, 971, 977, 983, 991, 997]\n"
     ]
    }
   ],
   "source": [
    "l = [False]*1001\n",
    "i = 2\n",
    "prime=[]\n",
    "while(i<1000):\n",
    "    if(l[i]==False):\n",
    "        prime.append(i)\n",
    "        for j in range(i,1001,i): l[j] = True\n",
    "    i=i+1\n",
    "print(prime)"
   ]
  },
  {
   "cell_type": "code",
   "execution_count": null,
   "metadata": {
    "collapsed": true
   },
   "outputs": [],
   "source": []
  }
 ],
 "metadata": {
  "kernelspec": {
   "display_name": "Python 3",
   "language": "python",
   "name": "python3"
  },
  "language_info": {
   "codemirror_mode": {
    "name": "ipython",
    "version": 3
   },
   "file_extension": ".py",
   "mimetype": "text/x-python",
   "name": "python",
   "nbconvert_exporter": "python",
   "pygments_lexer": "ipython3",
   "version": "3.6.0"
  }
 },
 "nbformat": 4,
 "nbformat_minor": 2
}
